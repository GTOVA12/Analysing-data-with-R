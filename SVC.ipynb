{
 "cells": [
  {
   "cell_type": "code",
   "execution_count": 112,
   "id": "e3308c0d",
   "metadata": {},
   "outputs": [],
   "source": [
    "import numpy as np\n",
    "import matplotlib.pyplot as plt\n",
    "import pandas as pd\n",
    "import seaborn as sns"
   ]
  },
  {
   "cell_type": "code",
   "execution_count": 113,
   "id": "72c45475",
   "metadata": {},
   "outputs": [
    {
     "data": {
      "text/html": [
       "<div>\n",
       "<style scoped>\n",
       "    .dataframe tbody tr th:only-of-type {\n",
       "        vertical-align: middle;\n",
       "    }\n",
       "\n",
       "    .dataframe tbody tr th {\n",
       "        vertical-align: top;\n",
       "    }\n",
       "\n",
       "    .dataframe thead th {\n",
       "        text-align: right;\n",
       "    }\n",
       "</style>\n",
       "<table border=\"1\" class=\"dataframe\">\n",
       "  <thead>\n",
       "    <tr style=\"text-align: right;\">\n",
       "      <th></th>\n",
       "      <th>Genre</th>\n",
       "      <th>age</th>\n",
       "      <th>A_E</th>\n",
       "      <th>MT_item1</th>\n",
       "      <th>MT_item2</th>\n",
       "      <th>MT_item3</th>\n",
       "      <th>For_item1</th>\n",
       "      <th>ITEM1</th>\n",
       "      <th>ITEM2</th>\n",
       "      <th>ITEM3</th>\n",
       "      <th>ITEM4</th>\n",
       "    </tr>\n",
       "  </thead>\n",
       "  <tbody>\n",
       "    <tr>\n",
       "      <th>0</th>\n",
       "      <td>Homme</td>\n",
       "      <td>20</td>\n",
       "      <td>CI1</td>\n",
       "      <td>d'accord</td>\n",
       "      <td>A tout à fait d'accord</td>\n",
       "      <td>pas d'accord</td>\n",
       "      <td>Option réfléchir</td>\n",
       "      <td>d'accord</td>\n",
       "      <td>A tout à fait d'accord</td>\n",
       "      <td>A tout à fait d'accord</td>\n",
       "      <td>pas d'accord</td>\n",
       "    </tr>\n",
       "    <tr>\n",
       "      <th>1</th>\n",
       "      <td>Homme</td>\n",
       "      <td>20</td>\n",
       "      <td>CI1</td>\n",
       "      <td>d'accord</td>\n",
       "      <td>d'accord</td>\n",
       "      <td>pas d'accord</td>\n",
       "      <td>une bonne option</td>\n",
       "      <td>A tout à fait d'accord</td>\n",
       "      <td>A tout à fait d'accord</td>\n",
       "      <td>Sans Opinion</td>\n",
       "      <td>pas du tout d'accord</td>\n",
       "    </tr>\n",
       "    <tr>\n",
       "      <th>2</th>\n",
       "      <td>Femme</td>\n",
       "      <td>25 ans</td>\n",
       "      <td>CI2</td>\n",
       "      <td>A tout à fait d'accord</td>\n",
       "      <td>d'accord</td>\n",
       "      <td>pas d'accord</td>\n",
       "      <td>Option réfléchir</td>\n",
       "      <td>d'accord</td>\n",
       "      <td>d'accord</td>\n",
       "      <td>A tout à fait d'accord</td>\n",
       "      <td>pas d'accord</td>\n",
       "    </tr>\n",
       "    <tr>\n",
       "      <th>3</th>\n",
       "      <td>Femme</td>\n",
       "      <td>20</td>\n",
       "      <td>CI1</td>\n",
       "      <td>A tout à fait d'accord</td>\n",
       "      <td>pas d'accord</td>\n",
       "      <td>pas du tout d'accord</td>\n",
       "      <td>une bonne option</td>\n",
       "      <td>pas du tout d'accord</td>\n",
       "      <td>pas d'accord</td>\n",
       "      <td>pas du tout d'accord</td>\n",
       "      <td>pas du tout d'accord</td>\n",
       "    </tr>\n",
       "    <tr>\n",
       "      <th>4</th>\n",
       "      <td>Homme</td>\n",
       "      <td>20</td>\n",
       "      <td>CI1</td>\n",
       "      <td>pas du tout d'accord</td>\n",
       "      <td>pas d'accord</td>\n",
       "      <td>pas d'accord</td>\n",
       "      <td>une bonne option</td>\n",
       "      <td>pas d'accord</td>\n",
       "      <td>pas d'accord</td>\n",
       "      <td>Sans Opinion</td>\n",
       "      <td>Sans Opinion</td>\n",
       "    </tr>\n",
       "  </tbody>\n",
       "</table>\n",
       "</div>"
      ],
      "text/plain": [
       "  Genre      age  A_E                MT_item1                MT_item2  \\\n",
       "0  Homme      20  CI1                d'accord  A tout à fait d'accord   \n",
       "1  Homme      20  CI1                d'accord                d'accord   \n",
       "2  Femme  25 ans  CI2  A tout à fait d'accord                d'accord   \n",
       "3  Femme      20  CI1  A tout à fait d'accord            pas d'accord   \n",
       "4  Homme      20  CI1    pas du tout d'accord            pas d'accord   \n",
       "\n",
       "               MT_item3         For_item1                   ITEM1  \\\n",
       "0          pas d'accord  Option réfléchir                d'accord   \n",
       "1          pas d'accord  une bonne option  A tout à fait d'accord   \n",
       "2          pas d'accord  Option réfléchir                d'accord   \n",
       "3  pas du tout d'accord  une bonne option    pas du tout d'accord   \n",
       "4          pas d'accord  une bonne option            pas d'accord   \n",
       "\n",
       "                    ITEM2                   ITEM3                 ITEM4  \n",
       "0  A tout à fait d'accord  A tout à fait d'accord          pas d'accord  \n",
       "1  A tout à fait d'accord            Sans Opinion  pas du tout d'accord  \n",
       "2                d'accord  A tout à fait d'accord          pas d'accord  \n",
       "3            pas d'accord    pas du tout d'accord  pas du tout d'accord  \n",
       "4            pas d'accord            Sans Opinion          Sans Opinion  "
      ]
     },
     "execution_count": 113,
     "metadata": {},
     "output_type": "execute_result"
    }
   ],
   "source": [
    "M=pd.read_excel('C:/Users/farou/Pictures/Screenshots/STAT/M.xlsx')\n",
    "M.head()"
   ]
  },
  {
   "cell_type": "code",
   "execution_count": 114,
   "id": "366dc380",
   "metadata": {},
   "outputs": [],
   "source": [
    "M.columns\n",
    "P=M[['For_item1','ITEM1']]\n"
   ]
  },
  {
   "cell_type": "code",
   "execution_count": 228,
   "id": "a674e8eb",
   "metadata": {},
   "outputs": [
    {
     "name": "stderr",
     "output_type": "stream",
     "text": [
      "C:\\Users\\farou\\anaconda3\\lib\\site-packages\\pandas\\core\\generic.py:6619: SettingWithCopyWarning: \n",
      "A value is trying to be set on a copy of a slice from a DataFrame\n",
      "\n",
      "See the caveats in the documentation: https://pandas.pydata.org/pandas-docs/stable/user_guide/indexing.html#returning-a-view-versus-a-copy\n",
      "  return self._update_inplace(result)\n"
     ]
    },
    {
     "data": {
      "text/html": [
       "<div>\n",
       "<style scoped>\n",
       "    .dataframe tbody tr th:only-of-type {\n",
       "        vertical-align: middle;\n",
       "    }\n",
       "\n",
       "    .dataframe tbody tr th {\n",
       "        vertical-align: top;\n",
       "    }\n",
       "\n",
       "    .dataframe thead th {\n",
       "        text-align: right;\n",
       "    }\n",
       "</style>\n",
       "<table border=\"1\" class=\"dataframe\">\n",
       "  <thead>\n",
       "    <tr style=\"text-align: right;\">\n",
       "      <th></th>\n",
       "      <th>ITEM1</th>\n",
       "      <th>MT_item2</th>\n",
       "      <th>For_item1</th>\n",
       "    </tr>\n",
       "  </thead>\n",
       "  <tbody>\n",
       "    <tr>\n",
       "      <th>0</th>\n",
       "      <td>2</td>\n",
       "      <td>1</td>\n",
       "      <td>1</td>\n",
       "    </tr>\n",
       "    <tr>\n",
       "      <th>1</th>\n",
       "      <td>1</td>\n",
       "      <td>2</td>\n",
       "      <td>2</td>\n",
       "    </tr>\n",
       "    <tr>\n",
       "      <th>2</th>\n",
       "      <td>2</td>\n",
       "      <td>2</td>\n",
       "      <td>1</td>\n",
       "    </tr>\n",
       "    <tr>\n",
       "      <th>3</th>\n",
       "      <td>5</td>\n",
       "      <td>4</td>\n",
       "      <td>2</td>\n",
       "    </tr>\n",
       "    <tr>\n",
       "      <th>4</th>\n",
       "      <td>4</td>\n",
       "      <td>4</td>\n",
       "      <td>2</td>\n",
       "    </tr>\n",
       "  </tbody>\n",
       "</table>\n",
       "</div>"
      ],
      "text/plain": [
       "   ITEM1  MT_item2  For_item1\n",
       "0      2         1          1\n",
       "1      1         2          2\n",
       "2      2         2          1\n",
       "3      5         4          2\n",
       "4      4         4          2"
      ]
     },
     "execution_count": 228,
     "metadata": {},
     "output_type": "execute_result"
    }
   ],
   "source": [
    "P=M[['ITEM1','MT_item2','For_item1']]\n",
    "\n",
    "#P['Genre '].replace([\"Homme\",\"Femme\"],[1,0],inplace=True)\n",
    "#P['A_E'].replace(['CI1','CI2'],[1,2],inplace=True)\n",
    "P['ITEM1'].replace([\"A tout à fait d'accord\",\"d'accord\",\"Sans Opinion\",\"pas d'accord\",\"pas du tout d'accord\"],[1,2,3,4,5],inplace=True)\n",
    "\n",
    "\n",
    "P['MT_item2'].replace([\"A tout à fait d'accord\",\"d'accord\",\"neutre\",\"pas d'accord\",\"pas du tout d'accord\"],[1,2,3,4,5],inplace=True)\n",
    "#P['MT_item2'].replace([\"tout à fait d'accord\",\"d'accord\",\"neutre\",\"pas d'accord\",\"pas du tout d'accord\"],[1,2,3,4,5],inplace=True)\n",
    "\n",
    "P['For_item1'].replace([\"Option réfléchir\",\"une bonne option\",\"pas d'avis clair sur ce sujet\",\"une option à éviter\"],[1,2,3,4],inplace=True)\n",
    "P.head()"
   ]
  },
  {
   "cell_type": "code",
   "execution_count": 116,
   "id": "ff401fb0",
   "metadata": {},
   "outputs": [
    {
     "data": {
      "text/plain": [
       "<matplotlib.collections.PathCollection at 0x27067aee310>"
      ]
     },
     "execution_count": 116,
     "metadata": {},
     "output_type": "execute_result"
    },
    {
     "data": {
      "image/png": "[encoded data removed]",
      "text/plain": [
       "<Figure size 432x288 with 1 Axes>"
      ]
     },
     "metadata": {
      "needs_background": "light"
     },
     "output_type": "display_data"
    }
   ],
   "source": [
    "Y=P['For_item1']\n",
    "X=P.drop('For_item1',axis=1)\n",
    "X1=X.iloc[:,1]\n",
    "X2=X.iloc[:,0]\n",
    "plt.scatter(X2,X1,c=Y)\n"
   ]
  },
  {
   "cell_type": "code",
   "execution_count": 215,
   "id": "2a0b874f",
   "metadata": {},
   "outputs": [],
   "source": [
    "from sklearn.model_selection import train_test_split\n"
   ]
  },
  {
   "cell_type": "code",
   "execution_count": 216,
   "id": "94f6e6de",
   "metadata": {},
   "outputs": [
    {
     "name": "stdout",
     "output_type": "stream",
     "text": [
      "Train set : (34, 2)\n",
      "Test set : (9, 2)\n"
     ]
    }
   ],
   "source": [
    "X_train, X_test ,Y_train ,Y_test = train_test_split(X,Y,test_size=0.2)\n",
    "print('Train set :', X_train.shape)\n",
    "print('Test set :', X_test.shape)\n"
   ]
  },
  {
   "cell_type": "code",
   "execution_count": 217,
   "id": "a4ff2d66",
   "metadata": {},
   "outputs": [],
   "source": [
    "from sklearn.svm import SVC"
   ]
  },
  {
   "cell_type": "code",
   "execution_count": 234,
   "id": "508ebff2",
   "metadata": {},
   "outputs": [
    {
     "name": "stdout",
     "output_type": "stream",
     "text": [
      "test score : 0.7777777777777778\n"
     ]
    }
   ],
   "source": [
    "model = SVC(kernel='linear',C=5,gamma=0.001)\n",
    "model.fit(X_train,Y_train)\n",
    "print('test score :',model.score(X_test,Y_test))"
   ]
  },
  {
   "cell_type": "code",
   "execution_count": 231,
   "id": "01ce28fc",
   "metadata": {},
   "outputs": [
    {
     "data": {
      "text/plain": [
       "[<matplotlib.lines.Line2D at 0x27067c98d60>]"
      ]
     },
     "execution_count": 231,
     "metadata": {},
     "output_type": "execute_result"
    },
    {
     "data": {
      "image/png": "[encoded data removed]",
      "text/plain": [
       "<Figure size 432x288 with 1 Axes>"
      ]
     },
     "metadata": {
      "needs_background": "light"
     },
     "output_type": "display_data"
    }
   ],
   "source": [
    "X1=X_train.iloc[:,0]\n",
    "X2=X_train.iloc[:,1]\n",
    "Z1=X_test.iloc[:,0]\n",
    "Z2=X_test.iloc[:,1]\n",
    "\n",
    "plt.scatter(X1,X2,c=Y_train)\n",
    "ax=plt.gca()\n",
    "xlim=ax.get_xlim()\n",
    "\n",
    "#ax.scatter(Z1,Z2,c=Y_test,marker= 's')\n",
    "w=model.coef_[0]\n",
    "a=-w[0] / w[1]\n",
    "xx=np.linspace(xlim[1],xlim[0])\n",
    "yy=a*xx - (model.intercept_[0]/w[1])\n",
    "plt.plot(xx,yy) \n",
    "  "
   ]
  },
  {
   "cell_type": "code",
   "execution_count": 220,
   "id": "ae90d6e4",
   "metadata": {},
   "outputs": [],
   "source": [
    "from sklearn.metrics import confusion_matrix"
   ]
  },
  {
   "cell_type": "code",
   "execution_count": 221,
   "id": "2c76b117",
   "metadata": {},
   "outputs": [
    {
     "data": {
      "text/plain": [
       "array([[5, 1, 0],\n",
       "       [0, 2, 0],\n",
       "       [0, 1, 0]], dtype=int64)"
      ]
     },
     "execution_count": 221,
     "metadata": {},
     "output_type": "execute_result"
    }
   ],
   "source": [
    "confusion_matrix(Y_test,model.predict(X_test))"
   ]
  },
  {
   "cell_type": "code",
   "execution_count": 222,
   "id": "75e99443",
   "metadata": {},
   "outputs": [],
   "source": [
    "def MODSVC(model,ITEM1=2,MT_item2=3):\n",
    "    x=np.array([ITEM1,MT_item2]).reshape(1,2)\n",
    "    print(model.predict(x))"
   ]
  },
  {
   "cell_type": "code",
   "execution_count": 223,
   "id": "9b19a2b2",
   "metadata": {},
   "outputs": [
    {
     "name": "stdout",
     "output_type": "stream",
     "text": [
      "[2]\n"
     ]
    }
   ],
   "source": [
    "MODSVC(model)"
   ]
  },
  {
   "cell_type": "code",
   "execution_count": 224,
   "id": "5122b17d",
   "metadata": {},
   "outputs": [],
   "source": [
    "y_pred = model.predict(X_test)"
   ]
  },
  {
   "cell_type": "code",
   "execution_count": 226,
   "id": "f7415b5c",
   "metadata": {},
   "outputs": [
    {
     "name": "stdout",
     "output_type": "stream",
     "text": [
      "              precision    recall  f1-score   support\n",
      "\n",
      "           1       1.00      0.83      0.91         6\n",
      "           2       0.50      1.00      0.67         2\n",
      "           3       0.00      0.00      0.00         1\n",
      "\n",
      "    accuracy                           0.78         9\n",
      "   macro avg       0.50      0.61      0.53         9\n",
      "weighted avg       0.78      0.78      0.75         9\n",
      "\n"
     ]
    },
    {
     "name": "stderr",
     "output_type": "stream",
     "text": [
      "C:\\Users\\farou\\anaconda3\\lib\\site-packages\\sklearn\\metrics\\_classification.py:1248: UndefinedMetricWarning: Precision and F-score are ill-defined and being set to 0.0 in labels with no predicted samples. Use `zero_division` parameter to control this behavior.\n",
      "  _warn_prf(average, modifier, msg_start, len(result))\n",
      "C:\\Users\\farou\\anaconda3\\lib\\site-packages\\sklearn\\metrics\\_classification.py:1248: UndefinedMetricWarning: Precision and F-score are ill-defined and being set to 0.0 in labels with no predicted samples. Use `zero_division` parameter to control this behavior.\n",
      "  _warn_prf(average, modifier, msg_start, len(result))\n",
      "C:\\Users\\farou\\anaconda3\\lib\\site-packages\\sklearn\\metrics\\_classification.py:1248: UndefinedMetricWarning: Precision and F-score are ill-defined and being set to 0.0 in labels with no predicted samples. Use `zero_division` parameter to control this behavior.\n",
      "  _warn_prf(average, modifier, msg_start, len(result))\n"
     ]
    }
   ],
   "source": [
    "from sklearn.metrics import classification_report\n",
    "print(classification_report(Y_test,y_pred))"
   ]
  },
  {
   "cell_type": "code",
   "execution_count": null,
   "id": "fbb64094",
   "metadata": {},
   "outputs": [],
   "source": []
  }
 ],
 "metadata": {
  "kernelspec": {
   "display_name": "Python 3 (ipykernel)",
   "language": "python",
   "name": "python3"
  },
  "language_info": {
   "codemirror_mode": {
    "name": "ipython",
    "version": 3
   },
   "file_extension": ".py",
   "mimetype": "text/x-python",
   "name": "python",
   "nbconvert_exporter": "python",
   "pygments_lexer": "ipython3",
   "version": "3.9.7"
  }
 },
 "nbformat": 4,
 "nbformat_minor": 5
}
