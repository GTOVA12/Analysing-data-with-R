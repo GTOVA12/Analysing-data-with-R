{
 "cells": [
  {
   "cell_type": "code",
   "execution_count": 2,
   "id": "63184c95",
   "metadata": {},
   "outputs": [],
   "source": [
    "import numpy as np\n",
    "import matplotlib.pyplot as plt\n",
    "import pandas as pd\n",
    "import seaborn as sns"
   ]
  },
  {
   "cell_type": "code",
   "execution_count": 3,
   "id": "14756e62",
   "metadata": {},
   "outputs": [
    {
     "data": {
      "text/html": [
       "<div>\n",
       "<style scoped>\n",
       "    .dataframe tbody tr th:only-of-type {\n",
       "        vertical-align: middle;\n",
       "    }\n",
       "\n",
       "    .dataframe tbody tr th {\n",
       "        vertical-align: top;\n",
       "    }\n",
       "\n",
       "    .dataframe thead th {\n",
       "        text-align: right;\n",
       "    }\n",
       "</style>\n",
       "<table border=\"1\" class=\"dataframe\">\n",
       "  <thead>\n",
       "    <tr style=\"text-align: right;\">\n",
       "      <th></th>\n",
       "      <th>Genre</th>\n",
       "      <th>age</th>\n",
       "      <th>A_E</th>\n",
       "      <th>MT_item1</th>\n",
       "      <th>MT_item2</th>\n",
       "      <th>MT_item3</th>\n",
       "      <th>For_item1</th>\n",
       "    </tr>\n",
       "  </thead>\n",
       "  <tbody>\n",
       "    <tr>\n",
       "      <th>0</th>\n",
       "      <td>Homme</td>\n",
       "      <td>20</td>\n",
       "      <td>CI1</td>\n",
       "      <td>2</td>\n",
       "      <td>1</td>\n",
       "      <td>4</td>\n",
       "      <td>Option réfléchir</td>\n",
       "    </tr>\n",
       "    <tr>\n",
       "      <th>1</th>\n",
       "      <td>Homme</td>\n",
       "      <td>20</td>\n",
       "      <td>CI1</td>\n",
       "      <td>2</td>\n",
       "      <td>2</td>\n",
       "      <td>4</td>\n",
       "      <td>une bonne option</td>\n",
       "    </tr>\n",
       "    <tr>\n",
       "      <th>2</th>\n",
       "      <td>Femme</td>\n",
       "      <td>20</td>\n",
       "      <td>CI2</td>\n",
       "      <td>1</td>\n",
       "      <td>2</td>\n",
       "      <td>4</td>\n",
       "      <td>Option réfléchir</td>\n",
       "    </tr>\n",
       "    <tr>\n",
       "      <th>3</th>\n",
       "      <td>Femme</td>\n",
       "      <td>20</td>\n",
       "      <td>CI1</td>\n",
       "      <td>1</td>\n",
       "      <td>4</td>\n",
       "      <td>5</td>\n",
       "      <td>une bonne option</td>\n",
       "    </tr>\n",
       "    <tr>\n",
       "      <th>4</th>\n",
       "      <td>Homme</td>\n",
       "      <td>20</td>\n",
       "      <td>CI1</td>\n",
       "      <td>5</td>\n",
       "      <td>4</td>\n",
       "      <td>4</td>\n",
       "      <td>une bonne option</td>\n",
       "    </tr>\n",
       "  </tbody>\n",
       "</table>\n",
       "</div>"
      ],
      "text/plain": [
       "   Genre  age  A_E  MT_item1  MT_item2  MT_item3         For_item1\n",
       "0  Homme   20  CI1         2         1         4  Option réfléchir\n",
       "1  Homme   20  CI1         2         2         4  une bonne option\n",
       "2  Femme   20  CI2         1         2         4  Option réfléchir\n",
       "3  Femme   20  CI1         1         4         5  une bonne option\n",
       "4  Homme   20  CI1         5         4         4  une bonne option"
      ]
     },
     "execution_count": 3,
     "metadata": {},
     "output_type": "execute_result"
    }
   ],
   "source": [
    "M=pd.read_excel('C:/Users/farou/Pictures/Screenshots/STAT/FICHIERRRR.xlsx')\n",
    "M.head()\n",
    "#C:/Users/farou/Pictures/Screenshots/STAT/M.xlsx"
   ]
  },
  {
   "cell_type": "code",
   "execution_count": 5,
   "id": "747c638e",
   "metadata": {},
   "outputs": [
    {
     "data": {
      "text/plain": [
       "Index(['Genre', 'age', 'A_E', 'MT_item1', 'MT_item2', 'MT_item3', 'For_item1'], dtype='object')"
      ]
     },
     "execution_count": 5,
     "metadata": {},
     "output_type": "execute_result"
    }
   ],
   "source": [
    "M.columns"
   ]
  },
  {
   "cell_type": "code",
   "execution_count": 6,
   "id": "a1b1799a",
   "metadata": {},
   "outputs": [
    {
     "data": {
      "text/html": [
       "<div>\n",
       "<style scoped>\n",
       "    .dataframe tbody tr th:only-of-type {\n",
       "        vertical-align: middle;\n",
       "    }\n",
       "\n",
       "    .dataframe tbody tr th {\n",
       "        vertical-align: top;\n",
       "    }\n",
       "\n",
       "    .dataframe thead th {\n",
       "        text-align: right;\n",
       "    }\n",
       "</style>\n",
       "<table border=\"1\" class=\"dataframe\">\n",
       "  <thead>\n",
       "    <tr style=\"text-align: right;\">\n",
       "      <th></th>\n",
       "      <th>A_E</th>\n",
       "      <th>MT_item1</th>\n",
       "      <th>MT_item2</th>\n",
       "      <th>MT_item3</th>\n",
       "      <th>For_item1</th>\n",
       "    </tr>\n",
       "  </thead>\n",
       "  <tbody>\n",
       "    <tr>\n",
       "      <th>0</th>\n",
       "      <td>1</td>\n",
       "      <td>2</td>\n",
       "      <td>1</td>\n",
       "      <td>4</td>\n",
       "      <td>1</td>\n",
       "    </tr>\n",
       "    <tr>\n",
       "      <th>1</th>\n",
       "      <td>1</td>\n",
       "      <td>2</td>\n",
       "      <td>2</td>\n",
       "      <td>4</td>\n",
       "      <td>2</td>\n",
       "    </tr>\n",
       "    <tr>\n",
       "      <th>2</th>\n",
       "      <td>2</td>\n",
       "      <td>1</td>\n",
       "      <td>2</td>\n",
       "      <td>4</td>\n",
       "      <td>1</td>\n",
       "    </tr>\n",
       "    <tr>\n",
       "      <th>3</th>\n",
       "      <td>1</td>\n",
       "      <td>1</td>\n",
       "      <td>4</td>\n",
       "      <td>5</td>\n",
       "      <td>2</td>\n",
       "    </tr>\n",
       "    <tr>\n",
       "      <th>4</th>\n",
       "      <td>1</td>\n",
       "      <td>5</td>\n",
       "      <td>4</td>\n",
       "      <td>4</td>\n",
       "      <td>2</td>\n",
       "    </tr>\n",
       "  </tbody>\n",
       "</table>\n",
       "</div>"
      ],
      "text/plain": [
       "   A_E  MT_item1  MT_item2  MT_item3  For_item1\n",
       "0    1         2         1         4          1\n",
       "1    1         2         2         4          2\n",
       "2    2         1         2         4          1\n",
       "3    1         1         4         5          2\n",
       "4    1         5         4         4          2"
      ]
     },
     "execution_count": 6,
     "metadata": {},
     "output_type": "execute_result"
    }
   ],
   "source": [
    "M=M[['A_E','MT_item1','MT_item2','MT_item3','For_item1']]\n",
    "#M['Genre'].replace([\"Homme\",\"Femme\"],[1,0],inplace=True)\n",
    "M['A_E'].replace(['CI1','CI2'],[1,2],inplace=True)\n",
    "M['MT_item1'].replace([\"A tout à fait d'accord\",\"d'accord\",\"neutre\",\"pas d'accord\",\"pas du tout d'accord\"],[1,2,3,4,5],inplace=True)\n",
    "\n",
    "\n",
    "M['MT_item3'].replace([\"A tout à fait d'accord\",\"d'accord\",\"neutre\",\"pas d'accord\",\"pas du tout d'accord\"],[1,2,3,4,5],inplace=True)\n",
    "M['MT_item2'].replace([\"A tout à fait d'accord\",\"d'accord\",\"neutre\",\"pas d'accord\",\"pas du tout d'accord\"],[1,2,3,4,5],inplace=True)\n",
    "\n",
    "#P['ITEM1'].replace([\"A tout à fait d'accord\",\"d'accord\",\"Sans Opinion\",\"pas d'accord\",\"pas du tout d'accord\"],[1,2,3,4,5],inplace=True)\n",
    "\n",
    "M['For_item1'].replace([\"Option réfléchir\",\"une bonne option\",\"pas d'avis clair sur ce sujet\",\"une option à éviter\"],[1,2,3,4],inplace=True)\n",
    "M.head()"
   ]
  },
  {
   "cell_type": "code",
   "execution_count": 7,
   "id": "ce547925",
   "metadata": {},
   "outputs": [
    {
     "data": {
      "text/html": [
       "<div>\n",
       "<style scoped>\n",
       "    .dataframe tbody tr th:only-of-type {\n",
       "        vertical-align: middle;\n",
       "    }\n",
       "\n",
       "    .dataframe tbody tr th {\n",
       "        vertical-align: top;\n",
       "    }\n",
       "\n",
       "    .dataframe thead th {\n",
       "        text-align: right;\n",
       "    }\n",
       "</style>\n",
       "<table border=\"1\" class=\"dataframe\">\n",
       "  <thead>\n",
       "    <tr style=\"text-align: right;\">\n",
       "      <th></th>\n",
       "      <th>A_E</th>\n",
       "      <th>MT_item1</th>\n",
       "      <th>MT_item2</th>\n",
       "      <th>MT_item3</th>\n",
       "    </tr>\n",
       "  </thead>\n",
       "  <tbody>\n",
       "    <tr>\n",
       "      <th>0</th>\n",
       "      <td>1</td>\n",
       "      <td>2</td>\n",
       "      <td>1</td>\n",
       "      <td>4</td>\n",
       "    </tr>\n",
       "    <tr>\n",
       "      <th>1</th>\n",
       "      <td>1</td>\n",
       "      <td>2</td>\n",
       "      <td>2</td>\n",
       "      <td>4</td>\n",
       "    </tr>\n",
       "    <tr>\n",
       "      <th>2</th>\n",
       "      <td>2</td>\n",
       "      <td>1</td>\n",
       "      <td>2</td>\n",
       "      <td>4</td>\n",
       "    </tr>\n",
       "    <tr>\n",
       "      <th>3</th>\n",
       "      <td>1</td>\n",
       "      <td>1</td>\n",
       "      <td>4</td>\n",
       "      <td>5</td>\n",
       "    </tr>\n",
       "    <tr>\n",
       "      <th>4</th>\n",
       "      <td>1</td>\n",
       "      <td>5</td>\n",
       "      <td>4</td>\n",
       "      <td>4</td>\n",
       "    </tr>\n",
       "  </tbody>\n",
       "</table>\n",
       "</div>"
      ],
      "text/plain": [
       "   A_E  MT_item1  MT_item2  MT_item3\n",
       "0    1         2         1         4\n",
       "1    1         2         2         4\n",
       "2    2         1         2         4\n",
       "3    1         1         4         5\n",
       "4    1         5         4         4"
      ]
     },
     "execution_count": 7,
     "metadata": {},
     "output_type": "execute_result"
    }
   ],
   "source": [
    "Y=M['For_item1']\n",
    "X=M.drop('For_item1',axis=1)\n",
    "X0=M.iloc[:,0]\n",
    "X1=M.iloc[:,1]\n",
    "X2=M.iloc[:,2]\n",
    "X3=M.iloc[:,3]\n",
    "#X4=M.iloc[:,4]\n",
    "X.head()"
   ]
  },
  {
   "cell_type": "code",
   "execution_count": 8,
   "id": "b37f410b",
   "metadata": {},
   "outputs": [
    {
     "data": {
      "text/plain": [
       "<matplotlib.collections.PathCollection at 0x217d09070a0>"
      ]
     },
     "execution_count": 8,
     "metadata": {},
     "output_type": "execute_result"
    },
    {
     "data": {
      "image/png": "[encoded data removed]",
      "text/plain": [
       "<Figure size 432x288 with 1 Axes>"
      ]
     },
     "metadata": {
      "needs_background": "light"
     },
     "output_type": "display_data"
    }
   ],
   "source": [
    "plt.scatter(X1,X2,c=Y)"
   ]
  },
  {
   "cell_type": "code",
   "execution_count": 9,
   "id": "6f9ba6f2",
   "metadata": {},
   "outputs": [
    {
     "data": {
      "text/html": [
       "<div>\n",
       "<style scoped>\n",
       "    .dataframe tbody tr th:only-of-type {\n",
       "        vertical-align: middle;\n",
       "    }\n",
       "\n",
       "    .dataframe tbody tr th {\n",
       "        vertical-align: top;\n",
       "    }\n",
       "\n",
       "    .dataframe thead th {\n",
       "        text-align: right;\n",
       "    }\n",
       "</style>\n",
       "<table border=\"1\" class=\"dataframe\">\n",
       "  <thead>\n",
       "    <tr style=\"text-align: right;\">\n",
       "      <th></th>\n",
       "      <th>A_E</th>\n",
       "      <th>MT_item1</th>\n",
       "      <th>MT_item2</th>\n",
       "      <th>MT_item3</th>\n",
       "    </tr>\n",
       "  </thead>\n",
       "  <tbody>\n",
       "    <tr>\n",
       "      <th>0</th>\n",
       "      <td>1</td>\n",
       "      <td>2</td>\n",
       "      <td>1</td>\n",
       "      <td>4</td>\n",
       "    </tr>\n",
       "    <tr>\n",
       "      <th>1</th>\n",
       "      <td>1</td>\n",
       "      <td>2</td>\n",
       "      <td>2</td>\n",
       "      <td>4</td>\n",
       "    </tr>\n",
       "    <tr>\n",
       "      <th>2</th>\n",
       "      <td>2</td>\n",
       "      <td>1</td>\n",
       "      <td>2</td>\n",
       "      <td>4</td>\n",
       "    </tr>\n",
       "    <tr>\n",
       "      <th>3</th>\n",
       "      <td>1</td>\n",
       "      <td>1</td>\n",
       "      <td>4</td>\n",
       "      <td>5</td>\n",
       "    </tr>\n",
       "    <tr>\n",
       "      <th>4</th>\n",
       "      <td>1</td>\n",
       "      <td>5</td>\n",
       "      <td>4</td>\n",
       "      <td>4</td>\n",
       "    </tr>\n",
       "  </tbody>\n",
       "</table>\n",
       "</div>"
      ],
      "text/plain": [
       "   A_E  MT_item1  MT_item2  MT_item3\n",
       "0    1         2         1         4\n",
       "1    1         2         2         4\n",
       "2    2         1         2         4\n",
       "3    1         1         4         5\n",
       "4    1         5         4         4"
      ]
     },
     "execution_count": 9,
     "metadata": {},
     "output_type": "execute_result"
    }
   ],
   "source": [
    "X.head()\n"
   ]
  },
  {
   "cell_type": "code",
   "execution_count": 30,
   "id": "f38cd302",
   "metadata": {},
   "outputs": [],
   "source": [
    "from sklearn.model_selection import train_test_split"
   ]
  },
  {
   "cell_type": "code",
   "execution_count": 31,
   "id": "10d3ad6e",
   "metadata": {},
   "outputs": [
    {
     "name": "stdout",
     "output_type": "stream",
     "text": [
      "Train set : (34, 4)\n",
      "Test set : (9, 4)\n"
     ]
    }
   ],
   "source": [
    "X_train, X_test ,Y_train ,Y_test = train_test_split(X,Y,test_size=0.2)\n",
    "print('Train set :', X_train.shape)\n",
    "print('Test set :', X_test.shape)"
   ]
  },
  {
   "cell_type": "code",
   "execution_count": 32,
   "id": "2aab260a",
   "metadata": {},
   "outputs": [
    {
     "data": {
      "text/plain": [
       "18    1\n",
       "39    2\n",
       "34    2\n",
       "3     1\n",
       "32    2\n",
       "6     1\n",
       "19    1\n",
       "41    2\n",
       "27    2\n",
       "Name: A_E, dtype: int64"
      ]
     },
     "execution_count": 32,
     "metadata": {},
     "output_type": "execute_result"
    }
   ],
   "source": [
    "X_test.iloc[:,0]"
   ]
  },
  {
   "cell_type": "code",
   "execution_count": 33,
   "id": "419d2bc3",
   "metadata": {},
   "outputs": [
    {
     "data": {
      "text/plain": [
       "Text(0.5, 1.0, 'Test set')"
      ]
     },
     "execution_count": 33,
     "metadata": {},
     "output_type": "execute_result"
    },
    {
     "data": {
      "image/png": "[encoded data removed]",
      "text/plain": [
       "<Figure size 864x288 with 2 Axes>"
      ]
     },
     "metadata": {
      "needs_background": "light"
     },
     "output_type": "display_data"
    }
   ],
   "source": [
    "plt.figure(figsize=(12,4))\n",
    "plt.subplot(121)\n",
    "X1=X_train.iloc[:,1]\n",
    "X2=X_train.iloc[:,2]\n",
    "Z1=X_test.iloc[:,1]\n",
    "Z2=X_test.iloc[:,2]\n",
    "plt.subplot(121)\n",
    "plt.scatter(X1,X2,c=Y_train)\n",
    "plt.title(\"Train set \")\n",
    "plt.subplot(122)\n",
    "plt.scatter(Z1,Z2,c=Y_test,alpha=0.8)\n",
    "plt.title(\"Test set\")"
   ]
  },
  {
   "cell_type": "code",
   "execution_count": 34,
   "id": "31e46208",
   "metadata": {},
   "outputs": [],
   "source": [
    "from sklearn.neighbors import KNeighborsClassifier"
   ]
  },
  {
   "cell_type": "code",
   "execution_count": 35,
   "id": "e6fffb1c",
   "metadata": {},
   "outputs": [
    {
     "name": "stdout",
     "output_type": "stream",
     "text": [
      "Train Score : 0.7777777777777778\n",
      "Test Score : 0.7058823529411765\n"
     ]
    }
   ],
   "source": [
    "model = KNeighborsClassifier(n_neighbors=2)\n",
    "model.fit(X_train,Y_train)\n",
    "print('Train Score :',model.score(X_test,Y_test))\n",
    "print('Test Score :',model.score(X_train,Y_train))"
   ]
  },
  {
   "cell_type": "code",
   "execution_count": 406,
   "id": "b6805c80",
   "metadata": {},
   "outputs": [
    {
     "data": {
      "text/html": [
       "<div>\n",
       "<style scoped>\n",
       "    .dataframe tbody tr th:only-of-type {\n",
       "        vertical-align: middle;\n",
       "    }\n",
       "\n",
       "    .dataframe tbody tr th {\n",
       "        vertical-align: top;\n",
       "    }\n",
       "\n",
       "    .dataframe thead th {\n",
       "        text-align: right;\n",
       "    }\n",
       "</style>\n",
       "<table border=\"1\" class=\"dataframe\">\n",
       "  <thead>\n",
       "    <tr style=\"text-align: right;\">\n",
       "      <th></th>\n",
       "      <th>A_E</th>\n",
       "      <th>MT_item1</th>\n",
       "      <th>MT_item2</th>\n",
       "      <th>MT_item3</th>\n",
       "    </tr>\n",
       "  </thead>\n",
       "  <tbody>\n",
       "    <tr>\n",
       "      <th>0</th>\n",
       "      <td>1</td>\n",
       "      <td>2</td>\n",
       "      <td>1</td>\n",
       "      <td>4</td>\n",
       "    </tr>\n",
       "    <tr>\n",
       "      <th>1</th>\n",
       "      <td>1</td>\n",
       "      <td>2</td>\n",
       "      <td>2</td>\n",
       "      <td>4</td>\n",
       "    </tr>\n",
       "    <tr>\n",
       "      <th>2</th>\n",
       "      <td>2</td>\n",
       "      <td>1</td>\n",
       "      <td>2</td>\n",
       "      <td>4</td>\n",
       "    </tr>\n",
       "    <tr>\n",
       "      <th>3</th>\n",
       "      <td>1</td>\n",
       "      <td>1</td>\n",
       "      <td>4</td>\n",
       "      <td>5</td>\n",
       "    </tr>\n",
       "    <tr>\n",
       "      <th>4</th>\n",
       "      <td>1</td>\n",
       "      <td>5</td>\n",
       "      <td>4</td>\n",
       "      <td>4</td>\n",
       "    </tr>\n",
       "  </tbody>\n",
       "</table>\n",
       "</div>"
      ],
      "text/plain": [
       "   A_E  MT_item1  MT_item2  MT_item3\n",
       "0    1         2         1         4\n",
       "1    1         2         2         4\n",
       "2    2         1         2         4\n",
       "3    1         1         4         5\n",
       "4    1         5         4         4"
      ]
     },
     "execution_count": 406,
     "metadata": {},
     "output_type": "execute_result"
    }
   ],
   "source": [
    "X.head()"
   ]
  },
  {
   "cell_type": "code",
   "execution_count": 20,
   "id": "90504c77",
   "metadata": {},
   "outputs": [],
   "source": [
    "def rep(model,A_E=1,MT_item1=2,MT_item2=1,MT_item3=4):\n",
    "    x=np.array([A_E,MT_item1,MT_item2,MT_item3]).reshape(1,4)\n",
    "    print(model.predict(x))\n"
   ]
  },
  {
   "cell_type": "code",
   "execution_count": 21,
   "id": "2915f015",
   "metadata": {},
   "outputs": [
    {
     "name": "stdout",
     "output_type": "stream",
     "text": [
      "[1]\n"
     ]
    }
   ],
   "source": [
    "rep(model)"
   ]
  },
  {
   "cell_type": "code",
   "execution_count": 398,
   "id": "211bc836",
   "metadata": {},
   "outputs": [],
   "source": [
    "from sklearn.metrics import confusion_matrix"
   ]
  },
  {
   "cell_type": "code",
   "execution_count": 399,
   "id": "8404956c",
   "metadata": {},
   "outputs": [
    {
     "data": {
      "text/plain": [
       "array([[6, 1, 0],\n",
       "       [0, 1, 0],\n",
       "       [1, 0, 0]], dtype=int64)"
      ]
     },
     "execution_count": 399,
     "metadata": {},
     "output_type": "execute_result"
    }
   ],
   "source": [
    "confusion_matrix(Y_test,model.predict(X_test))"
   ]
  },
  {
   "cell_type": "code",
   "execution_count": 50,
   "id": "609b8315",
   "metadata": {},
   "outputs": [],
   "source": [
    "#from sklearn.model_selection import learning_curve\n",
    "#N,train_score,val_score = learning_curve(model,X_train,Y_train,train_sizes=np.linspace(0.2,1.0,5),cv=3)\n",
    "#print(N)"
   ]
  },
  {
   "cell_type": "code",
   "execution_count": null,
   "id": "cb8306e1",
   "metadata": {},
   "outputs": [],
   "source": []
  }
 ],
 "metadata": {
  "kernelspec": {
   "display_name": "Python 3 (ipykernel)",
   "language": "python",
   "name": "python3"
  },
  "language_info": {
   "codemirror_mode": {
    "name": "ipython",
    "version": 3
   },
   "file_extension": ".py",
   "mimetype": "text/x-python",
   "name": "python",
   "nbconvert_exporter": "python",
   "pygments_lexer": "ipython3",
   "version": "3.9.7"
  }
 },
 "nbformat": 4,
 "nbformat_minor": 5
}
